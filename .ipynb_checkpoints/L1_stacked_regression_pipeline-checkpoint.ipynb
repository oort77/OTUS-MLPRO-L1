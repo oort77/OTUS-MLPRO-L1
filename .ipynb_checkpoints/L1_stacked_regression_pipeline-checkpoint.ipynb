{
 "cells": [
  {
   "cell_type": "markdown",
   "id": "a7e3d72b",
   "metadata": {},
   "source": [
    "**OTUS - L1**  \n",
    "\n",
    "Refactor example notebook on Linear Regression  \n",
    "'House Price Dataset', ML_recap_30_11-163989-36aa70.ipynb  \n",
    "\n",
    "Main goals: implement linear regression pipelines, stacking,  \n",
    "feature selection, hyperparameter tuning.  \n",
    "\n",
    "Dataset description and EDA part are omitted for brevity."
   ]
  },
  {
   "cell_type": "code",
   "execution_count": null,
   "id": "5653c9f0",
   "metadata": {
    "ExecuteTime": {
     "end_time": "2021-12-02T15:35:07.445166Z",
     "start_time": "2021-12-02T15:35:06.767353Z"
    }
   },
   "outputs": [],
   "source": [
    "# Import libraries\n",
    "import pandas as pd\n",
    "import numpy as np\n",
    "import sklearn\n",
    "from sklearn.model_selection import train_test_split, GridSearchCV\n",
    "from sklearn.linear_model import LinearRegression, Lasso, Ridge\n",
    "from sklearn.pipeline import Pipeline, make_pipeline, FeatureUnion\n",
    "from sklearn.compose import ColumnTransformer, make_column_selector\n",
    "from sklearn.preprocessing import FunctionTransformer, OneHotEncoder, StandardScaler\n",
    "from sklearn.impute import SimpleImputer, KNNImputer\n",
    "from sklearn.feature_selection import SelectKBest, f_classif\n",
    "from sklearn.ensemble import StackingRegressor\n",
    "from sklearn.metrics import mean_squared_error, mean_absolute_percentage_error\n",
    "from sklearn.metrics import mean_absolute_error, r2_score\n",
    "from scipy.stats import norm\n",
    "from yellowbrick.regressor import ResidualsPlot\n",
    "import matplotlib\n",
    "import matplotlib.pyplot as plt\n",
    "from matplotlib import cm\n",
    "import seaborn as sns\n",
    "import wget\n",
    "import pickle\n",
    "import warnings\n",
    "\n",
    "from IPython.core.display import display, HTML\n",
    "display(HTML(\"<style>.container { width:80% !important; }</style>\"))\n",
    "\n",
    "sklearn.set_config(display='diagram')\n",
    "\n",
    "sns.set_style('darkgrid')\n",
    "plt.rcParams[\"figure.figsize\"] = [12, 8]\n",
    "%matplotlib inline\n",
    "\n",
    "warnings.filterwarnings(\"ignore\")"
   ]
  },
  {
   "cell_type": "markdown",
   "id": "9dee1d2e",
   "metadata": {},
   "source": [
    "Import dataset"
   ]
  },
  {
   "cell_type": "code",
   "execution_count": null,
   "id": "d4716b09",
   "metadata": {
    "ExecuteTime": {
     "end_time": "2021-12-02T15:35:08.366432Z",
     "start_time": "2021-12-02T15:35:07.446374Z"
    }
   },
   "outputs": [],
   "source": [
    "# Data source\n",
    "url = 'https://docs.google.com/uc?export=download&id=1k21iUIrz0NjfiLE_j-oBQm1bNu3wASX6'\n",
    "\n",
    "# Read csv\n",
    "data = pd.read_csv(url, index_col=0)\n",
    "\n",
    "data.head()"
   ]
  },
  {
   "cell_type": "markdown",
   "id": "227adea9",
   "metadata": {},
   "source": [
    "Save dataset"
   ]
  },
  {
   "cell_type": "code",
   "execution_count": null,
   "id": "7b0d359b",
   "metadata": {
    "ExecuteTime": {
     "end_time": "2021-12-02T15:35:08.371364Z",
     "start_time": "2021-12-02T15:35:08.367430Z"
    }
   },
   "outputs": [],
   "source": [
    "with open(\"house_prices_df.pkl\", \"wb\") as f:\n",
    "    pickle.dump(data, f)"
   ]
  },
  {
   "cell_type": "markdown",
   "id": "9dbf2ea2",
   "metadata": {},
   "source": [
    "Select numerical and categorical columns"
   ]
  },
  {
   "cell_type": "code",
   "execution_count": null,
   "id": "20f95064",
   "metadata": {
    "ExecuteTime": {
     "end_time": "2021-12-02T15:35:08.494996Z",
     "start_time": "2021-12-02T15:35:08.372404Z"
    }
   },
   "outputs": [],
   "source": [
    "# All numerical features\n",
    "\n",
    "numerical_columns = data.select_dtypes(\n",
    "    include=[\"int\", \"float\"]).columns.to_list()\n",
    "numerical_features = numerical_columns[:-1]\n",
    "\n",
    "# All categorical features\n",
    "categorical_features = data.select_dtypes(\n",
    "   exclude=[\"int\", \"float\"]).columns.to_list()\n",
    "\n",
    "all_features = categorical_features + numerical_features"
   ]
  },
  {
   "cell_type": "markdown",
   "id": "4eb84f7f",
   "metadata": {},
   "source": [
    "Transform target variable, remove outliers\n"
   ]
  },
  {
   "cell_type": "code",
   "execution_count": null,
   "id": "27d895e9",
   "metadata": {
    "ExecuteTime": {
     "end_time": "2021-12-02T15:35:08.593505Z",
     "start_time": "2021-12-02T15:35:08.495943Z"
    }
   },
   "outputs": [],
   "source": [
    "# Take log of target variable and\n",
    "# Set kill_outliers=True to get rid of outliers > 3 sigma (optional)\n",
    "\n",
    "def transform_data(df, kill_outliers=False):\n",
    "    target = np.log(df.iloc[:,-1])\n",
    "    if kill_outliers:\n",
    "        m = np.mean(target)\n",
    "        sigma = np.std(target)\n",
    "        target.drop(target.index[(target < (m - 3*sigma)) | (target > (m + 3*sigma))],inplace=True)\n",
    "        df = df.loc[target.index]\n",
    "        df.reset_index(drop=True,inplace=True)\n",
    "        target.reset_index(drop=True,inplace=True)\n",
    "    return df, target\n",
    "\n",
    "data, target = transform_data(data)"
   ]
  },
  {
   "cell_type": "markdown",
   "id": "7cecd941",
   "metadata": {},
   "source": [
    "**Analize target distribution**"
   ]
  },
  {
   "cell_type": "markdown",
   "id": "0b97e3ee",
   "metadata": {},
   "source": [
    "Check target distribution before and after log transformation with boxplot"
   ]
  },
  {
   "cell_type": "code",
   "execution_count": null,
   "id": "a677de18",
   "metadata": {
    "ExecuteTime": {
     "end_time": "2021-12-02T15:35:08.930718Z",
     "start_time": "2021-12-02T15:35:08.598186Z"
    },
    "code_folding": []
   },
   "outputs": [],
   "source": [
    "fig, axes = plt.subplots(nrows=1,\n",
    "                         ncols=2, figsize=(14, 4))\n",
    "fig.suptitle('Target variable distribution before and after log transformation')\n",
    "\n",
    "axes[0].set_title('Before')\n",
    "sns.boxplot(data['SalePrice'], ax=axes[0])\n",
    "\n",
    "axes[1].set_title('After')\n",
    "sns.boxplot(target, color='green', ax=axes[1])\n",
    "\n",
    "plt.show()"
   ]
  },
  {
   "cell_type": "markdown",
   "id": "49446779",
   "metadata": {},
   "source": [
    "Check if target distribution is normal"
   ]
  },
  {
   "cell_type": "code",
   "execution_count": null,
   "id": "2b7651b4",
   "metadata": {
    "ExecuteTime": {
     "end_time": "2021-12-02T15:35:09.237064Z",
     "start_time": "2021-12-02T15:35:08.931776Z"
    },
    "code_folding": []
   },
   "outputs": [],
   "source": [
    "fig, axes = plt.subplots(nrows=1,\n",
    "                         ncols=2, figsize=(14, 4))\n",
    "fig.suptitle('Target variable distribution before and after log transformation')\n",
    "\n",
    "axes[0].set_title('Before')\n",
    "sns.distplot(data['SalePrice'], fit= norm, ax=axes[0])\n",
    "\n",
    "axes[1].set_title('After')\n",
    "sns.distplot(target, fit= norm, color='green', ax=axes[1])\n",
    "\n",
    "plt.show()"
   ]
  },
  {
   "cell_type": "markdown",
   "id": "4cf980a7",
   "metadata": {},
   "source": [
    "**Proceed to ML**"
   ]
  },
  {
   "cell_type": "markdown",
   "id": "71910a78",
   "metadata": {},
   "source": [
    "Train-test split"
   ]
  },
  {
   "cell_type": "code",
   "execution_count": null,
   "id": "b1267c77",
   "metadata": {
    "ExecuteTime": {
     "end_time": "2021-12-02T15:35:09.243463Z",
     "start_time": "2021-12-02T15:35:09.238681Z"
    }
   },
   "outputs": [],
   "source": [
    "X_train, X_test, y_train, y_test = train_test_split(data[all_features], target,\n",
    "                                                    test_size=0.25, random_state=17)"
   ]
  },
  {
   "cell_type": "markdown",
   "id": "73d008a8",
   "metadata": {},
   "source": [
    "**Build regression pipeline with stacking and hyperparameters search**"
   ]
  },
  {
   "cell_type": "markdown",
   "id": "078f4ef3",
   "metadata": {},
   "source": [
    "Define pipeline elements"
   ]
  },
  {
   "cell_type": "code",
   "execution_count": null,
   "id": "9c61ed96",
   "metadata": {
    "ExecuteTime": {
     "end_time": "2021-12-02T15:35:09.352712Z",
     "start_time": "2021-12-02T15:35:09.244443Z"
    }
   },
   "outputs": [],
   "source": [
    "# Steps\n",
    "numerical_transformer = Pipeline(steps=[\n",
    "    (\"imputer\", SimpleImputer(strategy='mean')),\n",
    "    (\"scaler\", StandardScaler()),\n",
    "    (\"feature_selector\", SelectKBest(score_func=f_classif, k=10))])\n",
    "\n",
    "categorical_transformer = Pipeline(steps=[\n",
    "    (\"imputer\", SimpleImputer(strategy='most_frequent')),\n",
    "    (\"onehot\", OneHotEncoder(handle_unknown=\"ignore\"))])\n",
    "\n",
    "data_transformer = ColumnTransformer(transformers=[\n",
    "    # < -- NB, include target\n",
    "    (\"numerical\", numerical_transformer, numerical_features),\n",
    "    (\"categorical\", categorical_transformer, categorical_features)])\n",
    "\n",
    "preprocessor = Pipeline(steps=[(\"data_transformer\", data_transformer)])\n",
    "\n",
    "estimators = [\n",
    "    (\"Linear_Regression\", LinearRegression()),\n",
    "    (\"Lasso\", Lasso()),\n",
    "    (\"Ridge\",  Ridge())]\n",
    "\n",
    "stacking_regressor = Pipeline(steps=[\n",
    "    (\"Preprocessor\", preprocessor),\n",
    "    (\"Stacking_Regressor\", StackingRegressor(\n",
    "        estimators=estimators,\n",
    "        passthrough=True,\n",
    "        n_jobs=-1,\n",
    "        verbose=0))]) #True"
   ]
  },
  {
   "cell_type": "markdown",
   "id": "676dff34",
   "metadata": {},
   "source": [
    "Define and execute grid search --  takes about 4 minutes on Binder"
   ]
  },
  {
   "cell_type": "code",
   "execution_count": null,
   "id": "c4514428",
   "metadata": {
    "ExecuteTime": {
     "end_time": "2021-12-02T15:36:02.436159Z",
     "start_time": "2021-12-02T15:35:09.357134Z"
    }
   },
   "outputs": [],
   "source": [
    "# Define grid search\n",
    "\n",
    "param_grid = {\n",
    "    # Ranges are chosen after a bit of experimentation\n",
    "    'Stacking_Regressor__Lasso__alpha': np.linspace(0.2, 0.3, 4),\n",
    "    'Stacking_Regressor__Ridge__alpha': np.linspace(3.0, 5.0, 4)\n",
    "}\n",
    "\n",
    "stacked_grid_search = GridSearchCV(\n",
    "    stacking_regressor, param_grid, n_jobs=-1, cv=5)\n",
    "\n",
    "# Fit the regression pipeline\n",
    "\n",
    "model = stacked_grid_search.fit(X_train, y_train)"
   ]
  },
  {
   "cell_type": "markdown",
   "id": "e087c1d2",
   "metadata": {
    "ExecuteTime": {
     "end_time": "2021-12-01T23:33:22.238998Z",
     "start_time": "2021-12-01T23:33:22.232118Z"
    }
   },
   "source": [
    "Show the pipeline structure"
   ]
  },
  {
   "cell_type": "code",
   "execution_count": null,
   "id": "df9573b2",
   "metadata": {
    "ExecuteTime": {
     "end_time": "2021-12-02T15:36:02.678834Z",
     "start_time": "2021-12-02T15:36:02.438341Z"
    }
   },
   "outputs": [],
   "source": [
    "stacked_grid_search"
   ]
  },
  {
   "cell_type": "markdown",
   "id": "b992c07b",
   "metadata": {},
   "source": [
    "**Run model and evaluate results**"
   ]
  },
  {
   "cell_type": "markdown",
   "id": "13676992",
   "metadata": {},
   "source": [
    "Fit the model and get the score on train set"
   ]
  },
  {
   "cell_type": "code",
   "execution_count": null,
   "id": "726651e4",
   "metadata": {
    "ExecuteTime": {
     "end_time": "2021-12-02T15:36:02.700291Z",
     "start_time": "2021-12-02T15:36:02.680049Z"
    }
   },
   "outputs": [],
   "source": [
    "train_score = model.score(X_train, y_train)\n",
    "print(f'Model score on training data: {train_score: .4f}')"
   ]
  },
  {
   "cell_type": "markdown",
   "id": "d597bf2e",
   "metadata": {},
   "source": [
    "Evaluate model on test set"
   ]
  },
  {
   "cell_type": "code",
   "execution_count": null,
   "id": "519d940a",
   "metadata": {
    "ExecuteTime": {
     "end_time": "2021-12-02T15:36:02.790845Z",
     "start_time": "2021-12-02T15:36:02.701326Z"
    }
   },
   "outputs": [],
   "source": [
    "best_score = stacked_grid_search.best_score_\n",
    "best_params = stacked_grid_search.best_params_\n",
    "\n",
    "print(f'Best score: {best_score: .4f}\\nwith best parameters:')\n",
    "print(f'         Lasso alpha {best_params[\"Stacking_Regressor__Lasso__alpha\"]: .2f}')\n",
    "print(f'         Ridge alpha {best_params[\"Stacking_Regressor__Ridge__alpha\"]: .2f}')\n",
    "\n",
    "model = stacked_grid_search.best_estimator_\n",
    "test_score = model.score(X_test, y_test)\n",
    "print(f'Model score on test data: {test_score: .4f}')"
   ]
  },
  {
   "cell_type": "markdown",
   "id": "39008731",
   "metadata": {},
   "source": [
    "Visualize residuals"
   ]
  },
  {
   "cell_type": "code",
   "execution_count": null,
   "id": "d4e2e572",
   "metadata": {
    "ExecuteTime": {
     "end_time": "2021-12-02T15:36:03.396714Z",
     "start_time": "2021-12-02T15:36:02.792479Z"
    }
   },
   "outputs": [],
   "source": [
    "visualizer = ResidualsPlot(model)\n",
    "\n",
    "visualizer.fit(X_train, y_train)  # Fit the training data to the visualizer\n",
    "visualizer.score(X_test, y_test)  # Evaluate the model on the test data\n",
    "_ = visualizer.show()             # Finalize and render the figure"
   ]
  },
  {
   "cell_type": "markdown",
   "id": "9ec5fc37",
   "metadata": {},
   "source": [
    "Evaluate model performance with several metrics  \n",
    "Use SalePrice instead of its log"
   ]
  },
  {
   "cell_type": "code",
   "execution_count": null,
   "id": "80eebc1c",
   "metadata": {
    "ExecuteTime": {
     "end_time": "2021-12-02T15:36:03.412032Z",
     "start_time": "2021-12-02T15:36:03.397639Z"
    }
   },
   "outputs": [],
   "source": [
    "# Restore SalePrice variable from targen\n",
    "\n",
    "yhat = np.exp(model.predict(X_test))\n",
    "y = np.exp(y_test)\n",
    "\n",
    "# Metrics\n",
    "\n",
    "RMSE = mean_squared_error(yhat, y, squared=False)\n",
    "MAE = mean_absolute_error(yhat, y)\n",
    "MAPE = mean_absolute_percentage_error(yhat, y)\n",
    "R2 = r2_score(yhat,y)\n",
    "\n",
    "print(f\"\"\"RMSE = {RMSE: 9.1f}\n",
    "MAE = {MAE: 10.1f}\n",
    "MAPE = {MAPE*100: 6.2f}%\n",
    "R2 = {R2: 8.2f}\"\"\")"
   ]
  },
  {
   "cell_type": "markdown",
   "id": "99e417fe",
   "metadata": {},
   "source": [
    "Save the model"
   ]
  },
  {
   "cell_type": "code",
   "execution_count": null,
   "id": "e234bd16",
   "metadata": {
    "ExecuteTime": {
     "end_time": "2021-12-02T15:36:03.527311Z",
     "start_time": "2021-12-02T15:36:03.412996Z"
    }
   },
   "outputs": [],
   "source": [
    "with open(\"stacked_regression_pipeline.pkl\", \"wb\") as f:\n",
    "    pickle.dump(stacked_grid_search, f)"
   ]
  }
 ],
 "metadata": {
  "kernelspec": {
   "display_name": "Python 3 (ipykernel)",
   "language": "python",
   "name": "python3"
  },
  "language_info": {
   "codemirror_mode": {
    "name": "ipython",
    "version": 3
   },
   "file_extension": ".py",
   "mimetype": "text/x-python",
   "name": "python",
   "nbconvert_exporter": "python",
   "pygments_lexer": "ipython3",
   "version": "3.8.12"
  }
 },
 "nbformat": 4,
 "nbformat_minor": 5
}
