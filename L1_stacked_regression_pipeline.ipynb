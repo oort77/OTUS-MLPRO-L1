{
 "cells": [
  {
   "cell_type": "markdown",
   "id": "a7e3d72b",
   "metadata": {},
   "source": [
    "**OTUS - L1**  \n",
    "Refactor example notebook on Linear Regression  \n",
    "'House Price Dataset', ML_recap_30_11-163989-36aa70.ipynb)  \n",
    "Aim: to use pipelines, stacking, feature selection, hyperparameter tuning.  \n",
    "Dataset description and EDA part are omitted for brevity."
   ]
  },
  {
   "cell_type": "code",
   "execution_count": 1,
   "id": "5653c9f0",
   "metadata": {
    "ExecuteTime": {
     "end_time": "2021-12-02T15:35:07.445166Z",
     "start_time": "2021-12-02T15:35:06.767353Z"
    }
   },
   "outputs": [
    {
     "data": {
      "text/html": [
       "<style>.container { width:80% !important; }</style>"
      ],
      "text/plain": [
       "<IPython.core.display.HTML object>"
      ]
     },
     "metadata": {},
     "output_type": "display_data"
    }
   ],
   "source": [
    "# Import libraries\n",
    "import pandas as pd\n",
    "import numpy as np\n",
    "import sklearn\n",
    "from sklearn.model_selection import train_test_split, GridSearchCV\n",
    "from sklearn.linear_model import LinearRegression, Lasso, Ridge\n",
    "from sklearn.pipeline import Pipeline, make_pipeline, FeatureUnion\n",
    "from sklearn.compose import ColumnTransformer, make_column_selector\n",
    "from sklearn.preprocessing import FunctionTransformer, OneHotEncoder, StandardScaler\n",
    "from sklearn.impute import SimpleImputer, KNNImputer\n",
    "from sklearn.feature_selection import SelectKBest, f_classif\n",
    "from sklearn.ensemble import StackingRegressor\n",
    "from sklearn.metrics import mean_squared_error, mean_absolute_percentage_error\n",
    "from sklearn.metrics import mean_absolute_error, r2_score\n",
    "from scipy.stats import norm\n",
    "from yellowbrick.regressor import ResidualsPlot\n",
    "import matplotlib\n",
    "import matplotlib.pyplot as plt\n",
    "from matplotlib import cm\n",
    "import seaborn as sns\n",
    "import wget\n",
    "import pickle\n",
    "import warnings\n",
    "\n",
    "\n",
    "# from sklearn.metrics import f1_score, make_scorer\n",
    "# f1 = make_scorer(f1_score,)\n",
    "\n",
    "from IPython.core.display import display, HTML\n",
    "display(HTML(\"<style>.container { width:80% !important; }</style>\"))\n",
    "\n",
    "sklearn.set_config(display='diagram')\n",
    "\n",
    "sns.set_style('darkgrid')\n",
    "plt.rcParams[\"figure.figsize\"] = [12, 8]\n",
    "%matplotlib inline\n",
    "\n",
    "# np.random.seed(17)\n",
    "\n",
    "warnings.filterwarnings(\"ignore\")"
   ]
  },
  {
   "cell_type": "markdown",
   "id": "9dee1d2e",
   "metadata": {},
   "source": [
    "Import dataset"
   ]
  },
  {
   "cell_type": "code",
   "execution_count": 2,
   "id": "d4716b09",
   "metadata": {
    "ExecuteTime": {
     "end_time": "2021-12-02T15:35:08.366432Z",
     "start_time": "2021-12-02T15:35:07.446374Z"
    }
   },
   "outputs": [
    {
     "data": {
      "text/html": [
       "<div>\n",
       "<style scoped>\n",
       "    .dataframe tbody tr th:only-of-type {\n",
       "        vertical-align: middle;\n",
       "    }\n",
       "\n",
       "    .dataframe tbody tr th {\n",
       "        vertical-align: top;\n",
       "    }\n",
       "\n",
       "    .dataframe thead th {\n",
       "        text-align: right;\n",
       "    }\n",
       "</style>\n",
       "<table border=\"1\" class=\"dataframe\">\n",
       "  <thead>\n",
       "    <tr style=\"text-align: right;\">\n",
       "      <th></th>\n",
       "      <th>MSSubClass</th>\n",
       "      <th>MSZoning</th>\n",
       "      <th>LotFrontage</th>\n",
       "      <th>LotArea</th>\n",
       "      <th>Street</th>\n",
       "      <th>Alley</th>\n",
       "      <th>LotShape</th>\n",
       "      <th>LandContour</th>\n",
       "      <th>Utilities</th>\n",
       "      <th>LotConfig</th>\n",
       "      <th>...</th>\n",
       "      <th>PoolArea</th>\n",
       "      <th>PoolQC</th>\n",
       "      <th>Fence</th>\n",
       "      <th>MiscFeature</th>\n",
       "      <th>MiscVal</th>\n",
       "      <th>MoSold</th>\n",
       "      <th>YrSold</th>\n",
       "      <th>SaleType</th>\n",
       "      <th>SaleCondition</th>\n",
       "      <th>SalePrice</th>\n",
       "    </tr>\n",
       "    <tr>\n",
       "      <th>Id</th>\n",
       "      <th></th>\n",
       "      <th></th>\n",
       "      <th></th>\n",
       "      <th></th>\n",
       "      <th></th>\n",
       "      <th></th>\n",
       "      <th></th>\n",
       "      <th></th>\n",
       "      <th></th>\n",
       "      <th></th>\n",
       "      <th></th>\n",
       "      <th></th>\n",
       "      <th></th>\n",
       "      <th></th>\n",
       "      <th></th>\n",
       "      <th></th>\n",
       "      <th></th>\n",
       "      <th></th>\n",
       "      <th></th>\n",
       "      <th></th>\n",
       "      <th></th>\n",
       "    </tr>\n",
       "  </thead>\n",
       "  <tbody>\n",
       "    <tr>\n",
       "      <th>1</th>\n",
       "      <td>60</td>\n",
       "      <td>RL</td>\n",
       "      <td>65.0</td>\n",
       "      <td>8450</td>\n",
       "      <td>Pave</td>\n",
       "      <td>NaN</td>\n",
       "      <td>Reg</td>\n",
       "      <td>Lvl</td>\n",
       "      <td>AllPub</td>\n",
       "      <td>Inside</td>\n",
       "      <td>...</td>\n",
       "      <td>0</td>\n",
       "      <td>NaN</td>\n",
       "      <td>NaN</td>\n",
       "      <td>NaN</td>\n",
       "      <td>0</td>\n",
       "      <td>2</td>\n",
       "      <td>2008</td>\n",
       "      <td>WD</td>\n",
       "      <td>Normal</td>\n",
       "      <td>208500</td>\n",
       "    </tr>\n",
       "    <tr>\n",
       "      <th>2</th>\n",
       "      <td>20</td>\n",
       "      <td>RL</td>\n",
       "      <td>80.0</td>\n",
       "      <td>9600</td>\n",
       "      <td>Pave</td>\n",
       "      <td>NaN</td>\n",
       "      <td>Reg</td>\n",
       "      <td>Lvl</td>\n",
       "      <td>AllPub</td>\n",
       "      <td>FR2</td>\n",
       "      <td>...</td>\n",
       "      <td>0</td>\n",
       "      <td>NaN</td>\n",
       "      <td>NaN</td>\n",
       "      <td>NaN</td>\n",
       "      <td>0</td>\n",
       "      <td>5</td>\n",
       "      <td>2007</td>\n",
       "      <td>WD</td>\n",
       "      <td>Normal</td>\n",
       "      <td>181500</td>\n",
       "    </tr>\n",
       "    <tr>\n",
       "      <th>3</th>\n",
       "      <td>60</td>\n",
       "      <td>RL</td>\n",
       "      <td>68.0</td>\n",
       "      <td>11250</td>\n",
       "      <td>Pave</td>\n",
       "      <td>NaN</td>\n",
       "      <td>IR1</td>\n",
       "      <td>Lvl</td>\n",
       "      <td>AllPub</td>\n",
       "      <td>Inside</td>\n",
       "      <td>...</td>\n",
       "      <td>0</td>\n",
       "      <td>NaN</td>\n",
       "      <td>NaN</td>\n",
       "      <td>NaN</td>\n",
       "      <td>0</td>\n",
       "      <td>9</td>\n",
       "      <td>2008</td>\n",
       "      <td>WD</td>\n",
       "      <td>Normal</td>\n",
       "      <td>223500</td>\n",
       "    </tr>\n",
       "    <tr>\n",
       "      <th>4</th>\n",
       "      <td>70</td>\n",
       "      <td>RL</td>\n",
       "      <td>60.0</td>\n",
       "      <td>9550</td>\n",
       "      <td>Pave</td>\n",
       "      <td>NaN</td>\n",
       "      <td>IR1</td>\n",
       "      <td>Lvl</td>\n",
       "      <td>AllPub</td>\n",
       "      <td>Corner</td>\n",
       "      <td>...</td>\n",
       "      <td>0</td>\n",
       "      <td>NaN</td>\n",
       "      <td>NaN</td>\n",
       "      <td>NaN</td>\n",
       "      <td>0</td>\n",
       "      <td>2</td>\n",
       "      <td>2006</td>\n",
       "      <td>WD</td>\n",
       "      <td>Abnorml</td>\n",
       "      <td>140000</td>\n",
       "    </tr>\n",
       "    <tr>\n",
       "      <th>5</th>\n",
       "      <td>60</td>\n",
       "      <td>RL</td>\n",
       "      <td>84.0</td>\n",
       "      <td>14260</td>\n",
       "      <td>Pave</td>\n",
       "      <td>NaN</td>\n",
       "      <td>IR1</td>\n",
       "      <td>Lvl</td>\n",
       "      <td>AllPub</td>\n",
       "      <td>FR2</td>\n",
       "      <td>...</td>\n",
       "      <td>0</td>\n",
       "      <td>NaN</td>\n",
       "      <td>NaN</td>\n",
       "      <td>NaN</td>\n",
       "      <td>0</td>\n",
       "      <td>12</td>\n",
       "      <td>2008</td>\n",
       "      <td>WD</td>\n",
       "      <td>Normal</td>\n",
       "      <td>250000</td>\n",
       "    </tr>\n",
       "  </tbody>\n",
       "</table>\n",
       "<p>5 rows × 80 columns</p>\n",
       "</div>"
      ],
      "text/plain": [
       "    MSSubClass MSZoning  LotFrontage  LotArea Street Alley LotShape  \\\n",
       "Id                                                                    \n",
       "1           60       RL         65.0     8450   Pave   NaN      Reg   \n",
       "2           20       RL         80.0     9600   Pave   NaN      Reg   \n",
       "3           60       RL         68.0    11250   Pave   NaN      IR1   \n",
       "4           70       RL         60.0     9550   Pave   NaN      IR1   \n",
       "5           60       RL         84.0    14260   Pave   NaN      IR1   \n",
       "\n",
       "   LandContour Utilities LotConfig  ... PoolArea PoolQC Fence MiscFeature  \\\n",
       "Id                                  ...                                     \n",
       "1          Lvl    AllPub    Inside  ...        0    NaN   NaN         NaN   \n",
       "2          Lvl    AllPub       FR2  ...        0    NaN   NaN         NaN   \n",
       "3          Lvl    AllPub    Inside  ...        0    NaN   NaN         NaN   \n",
       "4          Lvl    AllPub    Corner  ...        0    NaN   NaN         NaN   \n",
       "5          Lvl    AllPub       FR2  ...        0    NaN   NaN         NaN   \n",
       "\n",
       "   MiscVal MoSold  YrSold  SaleType  SaleCondition  SalePrice  \n",
       "Id                                                             \n",
       "1        0      2    2008        WD         Normal     208500  \n",
       "2        0      5    2007        WD         Normal     181500  \n",
       "3        0      9    2008        WD         Normal     223500  \n",
       "4        0      2    2006        WD        Abnorml     140000  \n",
       "5        0     12    2008        WD         Normal     250000  \n",
       "\n",
       "[5 rows x 80 columns]"
      ]
     },
     "execution_count": 2,
     "metadata": {},
     "output_type": "execute_result"
    }
   ],
   "source": [
    "# Data source\n",
    "url = 'https://docs.google.com/uc?export=download&id=1k21iUIrz0NjfiLE_j-oBQm1bNu3wASX6'\n",
    "# Read csv\n",
    "data = pd.read_csv(url, index_col=0)\n",
    "\n",
    "data.head()"
   ]
  },
  {
   "cell_type": "markdown",
   "id": "227adea9",
   "metadata": {},
   "source": [
    "Save dataset"
   ]
  },
  {
   "cell_type": "code",
   "execution_count": 3,
   "id": "7b0d359b",
   "metadata": {
    "ExecuteTime": {
     "end_time": "2021-12-02T15:35:08.371364Z",
     "start_time": "2021-12-02T15:35:08.367430Z"
    }
   },
   "outputs": [],
   "source": [
    "with open(\"house_prices_df.pkl\", \"wb\") as f:\n",
    "    pickle.dump(data, f)"
   ]
  },
  {
   "cell_type": "markdown",
   "id": "9dbf2ea2",
   "metadata": {},
   "source": [
    "Select numerical and categorical columns"
   ]
  },
  {
   "cell_type": "code",
   "execution_count": 4,
   "id": "20f95064",
   "metadata": {
    "ExecuteTime": {
     "end_time": "2021-12-02T15:35:08.494996Z",
     "start_time": "2021-12-02T15:35:08.372404Z"
    }
   },
   "outputs": [],
   "source": [
    "# All numerical features\n",
    "# data.drop(columns=['Alley'], inplace=True)\n",
    "numerical_columns = data.select_dtypes(\n",
    "    include=[\"int\", \"float\"]).columns.to_list()\n",
    "numerical_features = numerical_columns[:-1]\n",
    "# All categorical features\n",
    "categorical_features = data.select_dtypes(\n",
    "   exclude=[\"int\", \"float\"]).columns.to_list()\n",
    "all_features = categorical_features + numerical_features"
   ]
  },
  {
   "cell_type": "markdown",
   "id": "4eb84f7f",
   "metadata": {},
   "source": [
    "Transform target variable, remove outliers\n"
   ]
  },
  {
   "cell_type": "code",
   "execution_count": 5,
   "id": "27d895e9",
   "metadata": {
    "ExecuteTime": {
     "end_time": "2021-12-02T15:35:08.593505Z",
     "start_time": "2021-12-02T15:35:08.495943Z"
    }
   },
   "outputs": [],
   "source": [
    "# Take log of target variable and\n",
    "# Set kill_outliers=True to get rid of outliers > 3 sigma (optional)\n",
    "def transform_data(df, kill_outliers=False):\n",
    "    target = np.log(df.iloc[:,-1])\n",
    "    if kill_outliers:\n",
    "        m = np.mean(target)\n",
    "        sigma = np.std(target)\n",
    "        target.drop(target.index[(target < (m - 3*sigma)) | (target > (m + 3*sigma))],inplace=True)\n",
    "        df = df.loc[target.index]\n",
    "        df.reset_index(drop=True,inplace=True)\n",
    "        target.reset_index(drop=True,inplace=True)\n",
    "    return df, target\n",
    "data, target = transform_data(data)"
   ]
  },
  {
   "cell_type": "markdown",
   "id": "7cecd941",
   "metadata": {},
   "source": [
    "**Analize target distribution**"
   ]
  },
  {
   "cell_type": "markdown",
   "id": "0b97e3ee",
   "metadata": {},
   "source": [
    "Check target distribution before and after log transformation with boxplot"
   ]
  },
  {
   "cell_type": "code",
   "execution_count": 6,
   "id": "a677de18",
   "metadata": {
    "ExecuteTime": {
     "end_time": "2021-12-02T15:35:08.930718Z",
     "start_time": "2021-12-02T15:35:08.598186Z"
    },
    "code_folding": []
   },
   "outputs": [
    {
     "data": {
      "image/png": "[encoded data removed]",
      "text/plain": [
       "<Figure size 1008x288 with 2 Axes>"
      ]
     },
     "metadata": {
      "needs_background": "light"
     },
     "output_type": "display_data"
    }
   ],
   "source": [
    "fig, axes = plt.subplots(nrows=1,\n",
    "                         ncols=2, figsize=(14, 4))\n",
    "fig.suptitle('Target variable distribution before and after log transformation')\n",
    "# ax1 = plt.subplot(1,1)\n",
    "axes[0].set_title('Before')\n",
    "sns.boxplot(data['SalePrice'], ax=axes[0])\n",
    "# ax2 = plt.subplot(1,2)\n",
    "axes[1].set_title('After')\n",
    "sns.boxplot(target, color='green', ax=axes[1])\n",
    "plt.show()"
   ]
  },
  {
   "cell_type": "markdown",
   "id": "49446779",
   "metadata": {},
   "source": [
    "Check if target distribution is normal"
   ]
  },
  {
   "cell_type": "code",
   "execution_count": 7,
   "id": "2b7651b4",
   "metadata": {
    "ExecuteTime": {
     "end_time": "2021-12-02T15:35:09.237064Z",
     "start_time": "2021-12-02T15:35:08.931776Z"
    },
    "code_folding": []
   },
   "outputs": [
    {
     "data": {
      "image/png": "[encoded data removed]",
      "text/plain": [
       "<Figure size 1008x288 with 2 Axes>"
      ]
     },
     "metadata": {
      "needs_background": "light"
     },
     "output_type": "display_data"
    }
   ],
   "source": [
    "fig, axes = plt.subplots(nrows=1,\n",
    "                         ncols=2, figsize=(14, 4))\n",
    "fig.suptitle('Target variable distribution before and after log transformation')\n",
    "# ax1 = plt.subplot(1,1)\n",
    "axes[0].set_title('Before')\n",
    "sns.distplot(data['SalePrice'], fit= norm, ax=axes[0])\n",
    "# ax2 = plt.subplot(1,2)\n",
    "axes[1].set_title('After')\n",
    "sns.distplot(target, fit= norm, color='green', ax=axes[1])\n",
    "plt.show()\n",
    "# plt.figure(figsize=(10, 5))\n",
    "# _ = sns.distplot(data.SalePrice, fit=norm)"
   ]
  },
  {
   "cell_type": "markdown",
   "id": "4cf980a7",
   "metadata": {},
   "source": [
    "**Proceed to ML**"
   ]
  },
  {
   "cell_type": "markdown",
   "id": "71910a78",
   "metadata": {},
   "source": [
    "Train-test split"
   ]
  },
  {
   "cell_type": "code",
   "execution_count": 8,
   "id": "b1267c77",
   "metadata": {
    "ExecuteTime": {
     "end_time": "2021-12-02T15:35:09.243463Z",
     "start_time": "2021-12-02T15:35:09.238681Z"
    }
   },
   "outputs": [],
   "source": [
    "X_train, X_test, y_train, y_test = train_test_split(data[all_features], target,\n",
    "                                                    test_size=0.25, random_state=17)"
   ]
  },
  {
   "cell_type": "markdown",
   "id": "73d008a8",
   "metadata": {},
   "source": [
    "**Build regression pipeline with stacking and hyperparameters search**"
   ]
  },
  {
   "cell_type": "markdown",
   "id": "078f4ef3",
   "metadata": {},
   "source": [
    "Define pipeline elements"
   ]
  },
  {
   "cell_type": "code",
   "execution_count": 9,
   "id": "9c61ed96",
   "metadata": {
    "ExecuteTime": {
     "end_time": "2021-12-02T15:35:09.352712Z",
     "start_time": "2021-12-02T15:35:09.244443Z"
    }
   },
   "outputs": [],
   "source": [
    "# Steps\n",
    "numerical_transformer = Pipeline(steps=[\n",
    "    (\"imputer\", SimpleImputer(strategy='mean')),\n",
    "    (\"scaler\", StandardScaler()),\n",
    "    (\"feature_selector\", SelectKBest(score_func=f_classif, k=10))])\n",
    "\n",
    "categorical_transformer = Pipeline(steps=[\n",
    "    (\"imputer\", SimpleImputer(strategy='most_frequent')),\n",
    "    (\"onehot\", OneHotEncoder(handle_unknown=\"ignore\"))])\n",
    "\n",
    "data_transformer = ColumnTransformer(transformers=[\n",
    "    # < -- NB, include target\n",
    "    (\"numerical\", numerical_transformer, numerical_features),\n",
    "    (\"categorical\", categorical_transformer, categorical_features)])\n",
    "\n",
    "preprocessor = Pipeline(steps=[(\"data_transformer\", data_transformer)])\n",
    "\n",
    "estimators = [\n",
    "    #     (\"Linear_Regression\", make_pipeline(preprocessor, LinearRegression())),\n",
    "    (\"Linear_Regression\", LinearRegression()),\n",
    "    (\"Lasso\", Lasso()),\n",
    "    (\"Ridge\",  Ridge())]\n",
    "\n",
    "stacking_regressor = Pipeline(steps=[\n",
    "    (\"Preprocessor\", preprocessor),\n",
    "    (\"Stacking_Regressor\", StackingRegressor(\n",
    "        estimators=estimators,\n",
    "        passthrough=True,\n",
    "        #     final_estimator=RidgeCV(),\n",
    "        n_jobs=-1,\n",
    "        verbose=0))]) #True"
   ]
  },
  {
   "cell_type": "markdown",
   "id": "676dff34",
   "metadata": {},
   "source": [
    "Define and execute grid search"
   ]
  },
  {
   "cell_type": "code",
   "execution_count": 10,
   "id": "c4514428",
   "metadata": {
    "ExecuteTime": {
     "end_time": "2021-12-02T15:36:02.436159Z",
     "start_time": "2021-12-02T15:35:09.357134Z"
    }
   },
   "outputs": [],
   "source": [
    "# Define grid search\n",
    "param_grid = {\n",
    "    # Ranges are chosen after a bit of experimentation\n",
    "    'Stacking_Regressor__Lasso__alpha': np.linspace(0.2, 0.3, 9),\n",
    "    'Stacking_Regressor__Ridge__alpha': np.linspace(3.0, 5.0, 9)\n",
    "}\n",
    "stacked_grid_search = GridSearchCV(\n",
    "    stacking_regressor, param_grid, n_jobs=-1, cv=5)  # , scoring=f1)\n",
    "\n",
    "model = stacked_grid_search.fit(X_train, y_train)"
   ]
  },
  {
   "cell_type": "markdown",
   "id": "e087c1d2",
   "metadata": {
    "ExecuteTime": {
     "end_time": "2021-12-01T23:33:22.238998Z",
     "start_time": "2021-12-01T23:33:22.232118Z"
    }
   },
   "source": [
    "Show the pipeline structure"
   ]
  },
  {
   "cell_type": "code",
   "execution_count": 11,
   "id": "df9573b2",
   "metadata": {
    "ExecuteTime": {
     "end_time": "2021-12-02T15:36:02.678834Z",
     "start_time": "2021-12-02T15:36:02.438341Z"
    }
   },
   "outputs": [
    {
     "data": {
      "text/html": [
       "<style>#sk-e0a8a094-9837-472f-8ab0-25c10d548655 {color: black;background-color: white;}#sk-e0a8a094-9837-472f-8ab0-25c10d548655 pre{padding: 0;}#sk-e0a8a094-9837-472f-8ab0-25c10d548655 div.sk-toggleable {background-color: white;}#sk-e0a8a094-9837-472f-8ab0-25c10d548655 label.sk-toggleable__label {cursor: pointer;display: block;width: 100%;margin-bottom: 0;padding: 0.3em;box-sizing: border-box;text-align: center;}#sk-e0a8a094-9837-472f-8ab0-25c10d548655 div.sk-toggleable__content {max-height: 0;max-width: 0;overflow: hidden;text-align: left;background-color: #f0f8ff;}#sk-e0a8a094-9837-472f-8ab0-25c10d548655 div.sk-toggleable__content pre {margin: 0.2em;color: black;border-radius: 0.25em;background-color: #f0f8ff;}#sk-e0a8a094-9837-472f-8ab0-25c10d548655 input.sk-toggleable__control:checked~div.sk-toggleable__content {max-height: 200px;max-width: 100%;overflow: auto;}#sk-e0a8a094-9837-472f-8ab0-25c10d548655 div.sk-estimator input.sk-toggleable__control:checked~label.sk-toggleable__label {background-color: #d4ebff;}#sk-e0a8a094-9837-472f-8ab0-25c10d548655 div.sk-label input.sk-toggleable__control:checked~label.sk-toggleable__label {background-color: #d4ebff;}#sk-e0a8a094-9837-472f-8ab0-25c10d548655 input.sk-hidden--visually {border: 0;clip: rect(1px 1px 1px 1px);clip: rect(1px, 1px, 1px, 1px);height: 1px;margin: -1px;overflow: hidden;padding: 0;position: absolute;width: 1px;}#sk-e0a8a094-9837-472f-8ab0-25c10d548655 div.sk-estimator {font-family: monospace;background-color: #f0f8ff;border: 1px dotted black;border-radius: 0.25em;box-sizing: border-box;margin-bottom: 0.5em;}#sk-e0a8a094-9837-472f-8ab0-25c10d548655 div.sk-estimator:hover {background-color: #d4ebff;}#sk-e0a8a094-9837-472f-8ab0-25c10d548655 div.sk-parallel-item::after {content: \"\";width: 100%;border-bottom: 1px solid gray;flex-grow: 1;}#sk-e0a8a094-9837-472f-8ab0-25c10d548655 div.sk-label:hover label.sk-toggleable__label {background-color: #d4ebff;}#sk-e0a8a094-9837-472f-8ab0-25c10d548655 div.sk-serial::before {content: \"\";position: absolute;border-left: 1px solid gray;box-sizing: border-box;top: 2em;bottom: 0;left: 50%;}#sk-e0a8a094-9837-472f-8ab0-25c10d548655 div.sk-serial {display: flex;flex-direction: column;align-items: center;background-color: white;padding-right: 0.2em;padding-left: 0.2em;}#sk-e0a8a094-9837-472f-8ab0-25c10d548655 div.sk-item {z-index: 1;}#sk-e0a8a094-9837-472f-8ab0-25c10d548655 div.sk-parallel {display: flex;align-items: stretch;justify-content: center;background-color: white;}#sk-e0a8a094-9837-472f-8ab0-25c10d548655 div.sk-parallel::before {content: \"\";position: absolute;border-left: 1px solid gray;box-sizing: border-box;top: 2em;bottom: 0;left: 50%;}#sk-e0a8a094-9837-472f-8ab0-25c10d548655 div.sk-parallel-item {display: flex;flex-direction: column;position: relative;background-color: white;}#sk-e0a8a094-9837-472f-8ab0-25c10d548655 div.sk-parallel-item:first-child::after {align-self: flex-end;width: 50%;}#sk-e0a8a094-9837-472f-8ab0-25c10d548655 div.sk-parallel-item:last-child::after {align-self: flex-start;width: 50%;}#sk-e0a8a094-9837-472f-8ab0-25c10d548655 div.sk-parallel-item:only-child::after {width: 0;}#sk-e0a8a094-9837-472f-8ab0-25c10d548655 div.sk-dashed-wrapped {border: 1px dashed gray;margin: 0 0.4em 0.5em 0.4em;box-sizing: border-box;padding-bottom: 0.4em;background-color: white;position: relative;}#sk-e0a8a094-9837-472f-8ab0-25c10d548655 div.sk-label label {font-family: monospace;font-weight: bold;background-color: white;display: inline-block;line-height: 1.2em;}#sk-e0a8a094-9837-472f-8ab0-25c10d548655 div.sk-label-container {position: relative;z-index: 2;text-align: center;}#sk-e0a8a094-9837-472f-8ab0-25c10d548655 div.sk-container {display: inline-block;position: relative;}</style><div id=\"sk-e0a8a094-9837-472f-8ab0-25c10d548655\" class\"sk-top-container\"><div class=\"sk-container\"><div class=\"sk-item sk-dashed-wrapped\"><div class=\"sk-label-container\"><div class=\"sk-label sk-toggleable\"><input class=\"sk-toggleable__control sk-hidden--visually\" id=\"2c7224a0-d625-4d6a-90ff-1653594b32e9\" type=\"checkbox\" ><label class=\"sk-toggleable__label\" for=\"2c7224a0-d625-4d6a-90ff-1653594b32e9\">GridSearchCV</label><div class=\"sk-toggleable__content\"><pre>GridSearchCV(cv=5,\n",
       "             estimator=Pipeline(steps=[('Preprocessor',\n",
       "                                        Pipeline(steps=[('data_transformer',\n",
       "                                                         ColumnTransformer(transformers=[('numerical',\n",
       "                                                                                          Pipeline(steps=[('imputer',\n",
       "                                                                                                           SimpleImputer()),\n",
       "                                                                                                          ('scaler',\n",
       "                                                                                                           StandardScaler()),\n",
       "                                                                                                          ('feature_selector',\n",
       "                                                                                                           SelectKBest())]),\n",
       "                                                                                          ['MSSubClass',\n",
       "                                                                                           'LotFrontage',\n",
       "                                                                                           'LotArea',\n",
       "                                                                                           'OverallQual',\n",
       "                                                                                           'OverallCond',\n",
       "                                                                                           'YearBuilt',\n",
       "                                                                                           'YearRemodAdd',\n",
       "                                                                                           'MasVnr...\n",
       "                                       ('Stacking_Regressor',\n",
       "                                        StackingRegressor(estimators=[('Linear_Regression',\n",
       "                                                                       LinearRegression()),\n",
       "                                                                      ('Lasso',\n",
       "                                                                       Lasso()),\n",
       "                                                                      ('Ridge',\n",
       "                                                                       Ridge())],\n",
       "                                                          n_jobs=-1,\n",
       "                                                          passthrough=True))]),\n",
       "             n_jobs=-1,\n",
       "             param_grid={'Stacking_Regressor__Lasso__alpha': array([0.2   , 0.2125, 0.225 , 0.2375, 0.25  , 0.2625, 0.275 , 0.2875,\n",
       "       0.3   ]),\n",
       "                         'Stacking_Regressor__Ridge__alpha': array([3.  , 3.25, 3.5 , 3.75, 4.  , 4.25, 4.5 , 4.75, 5.  ])})</pre></div></div></div><div class=\"sk-parallel\"><div class=\"sk-parallel-item\"><div class=\"sk-item\"><div class=\"sk-serial\"><div class=\"sk-item\"><div class=\"sk-serial\"><div class=\"sk-item\"><div class=\"sk-label-container\"><div class=\"sk-label sk-toggleable\"><input class=\"sk-toggleable__control sk-hidden--visually\" id=\"d44256ee-a912-48ef-8a94-653e2bee53ea\" type=\"checkbox\" ><label class=\"sk-toggleable__label\" for=\"d44256ee-a912-48ef-8a94-653e2bee53ea\">Preprocessor: Pipeline</label><div class=\"sk-toggleable__content\"><pre>Pipeline(steps=[('data_transformer',\n",
       "                 ColumnTransformer(transformers=[('numerical',\n",
       "                                                  Pipeline(steps=[('imputer',\n",
       "                                                                   SimpleImputer()),\n",
       "                                                                  ('scaler',\n",
       "                                                                   StandardScaler()),\n",
       "                                                                  ('feature_selector',\n",
       "                                                                   SelectKBest())]),\n",
       "                                                  ['MSSubClass', 'LotFrontage',\n",
       "                                                   'LotArea', 'OverallQual',\n",
       "                                                   'OverallCond', 'YearBuilt',\n",
       "                                                   'YearRemodAdd', 'MasVnrArea',\n",
       "                                                   'BsmtFinSF1', 'BsmtFinSF2',\n",
       "                                                   'BsmtUnfSF', 'TotalBsmtSF',\n",
       "                                                   '1...\n",
       "                                                   'Alley', 'LotShape',\n",
       "                                                   'LandContour', 'Utilities',\n",
       "                                                   'LotConfig', 'LandSlope',\n",
       "                                                   'Neighborhood', 'Condition1',\n",
       "                                                   'Condition2', 'BldgType',\n",
       "                                                   'HouseStyle', 'RoofStyle',\n",
       "                                                   'RoofMatl', 'Exterior1st',\n",
       "                                                   'Exterior2nd', 'MasVnrType',\n",
       "                                                   'ExterQual', 'ExterCond',\n",
       "                                                   'Foundation', 'BsmtQual',\n",
       "                                                   'BsmtCond', 'BsmtExposure',\n",
       "                                                   'BsmtFinType1',\n",
       "                                                   'BsmtFinType2', 'Heating',\n",
       "                                                   'HeatingQC', 'CentralAir',\n",
       "                                                   'Electrical', ...])]))])</pre></div></div></div><div class=\"sk-serial\"><div class=\"sk-item sk-dashed-wrapped\"><div class=\"sk-label-container\"><div class=\"sk-label sk-toggleable\"><input class=\"sk-toggleable__control sk-hidden--visually\" id=\"ebd199ec-5026-46ec-8f95-1525c0eafb7b\" type=\"checkbox\" ><label class=\"sk-toggleable__label\" for=\"ebd199ec-5026-46ec-8f95-1525c0eafb7b\">data_transformer: ColumnTransformer</label><div class=\"sk-toggleable__content\"><pre>ColumnTransformer(transformers=[('numerical',\n",
       "                                 Pipeline(steps=[('imputer', SimpleImputer()),\n",
       "                                                 ('scaler', StandardScaler()),\n",
       "                                                 ('feature_selector',\n",
       "                                                  SelectKBest())]),\n",
       "                                 ['MSSubClass', 'LotFrontage', 'LotArea',\n",
       "                                  'OverallQual', 'OverallCond', 'YearBuilt',\n",
       "                                  'YearRemodAdd', 'MasVnrArea', 'BsmtFinSF1',\n",
       "                                  'BsmtFinSF2', 'BsmtUnfSF', 'TotalBsmtSF',\n",
       "                                  '1stFlrSF', '2ndFlrSF', 'LowQualFinSF',\n",
       "                                  '...\n",
       "                                 ['MSZoning', 'Street', 'Alley', 'LotShape',\n",
       "                                  'LandContour', 'Utilities', 'LotConfig',\n",
       "                                  'LandSlope', 'Neighborhood', 'Condition1',\n",
       "                                  'Condition2', 'BldgType', 'HouseStyle',\n",
       "                                  'RoofStyle', 'RoofMatl', 'Exterior1st',\n",
       "                                  'Exterior2nd', 'MasVnrType', 'ExterQual',\n",
       "                                  'ExterCond', 'Foundation', 'BsmtQual',\n",
       "                                  'BsmtCond', 'BsmtExposure', 'BsmtFinType1',\n",
       "                                  'BsmtFinType2', 'Heating', 'HeatingQC',\n",
       "                                  'CentralAir', 'Electrical', ...])])</pre></div></div></div><div class=\"sk-parallel\"><div class=\"sk-parallel-item\"><div class=\"sk-item\"><div class=\"sk-label-container\"><div class=\"sk-label sk-toggleable\"><input class=\"sk-toggleable__control sk-hidden--visually\" id=\"30fecf4b-114b-469b-9a3a-0572d946022d\" type=\"checkbox\" ><label class=\"sk-toggleable__label\" for=\"30fecf4b-114b-469b-9a3a-0572d946022d\">numerical</label><div class=\"sk-toggleable__content\"><pre>['MSSubClass', 'LotFrontage', 'LotArea', 'OverallQual', 'OverallCond', 'YearBuilt', 'YearRemodAdd', 'MasVnrArea', 'BsmtFinSF1', 'BsmtFinSF2', 'BsmtUnfSF', 'TotalBsmtSF', '1stFlrSF', '2ndFlrSF', 'LowQualFinSF', 'GrLivArea', 'BsmtFullBath', 'BsmtHalfBath', 'FullBath', 'HalfBath', 'BedroomAbvGr', 'KitchenAbvGr', 'TotRmsAbvGrd', 'Fireplaces', 'GarageYrBlt', 'GarageCars', 'GarageArea', 'WoodDeckSF', 'OpenPorchSF', 'EnclosedPorch', '3SsnPorch', 'ScreenPorch', 'PoolArea', 'MiscVal', 'MoSold', 'YrSold']</pre></div></div></div><div class=\"sk-serial\"><div class=\"sk-item\"><div class=\"sk-serial\"><div class=\"sk-item\"><div class=\"sk-estimator sk-toggleable\"><input class=\"sk-toggleable__control sk-hidden--visually\" id=\"b6ac678a-cd50-4fda-b390-21f62602e638\" type=\"checkbox\" ><label class=\"sk-toggleable__label\" for=\"b6ac678a-cd50-4fda-b390-21f62602e638\">SimpleImputer</label><div class=\"sk-toggleable__content\"><pre>SimpleImputer()</pre></div></div></div><div class=\"sk-item\"><div class=\"sk-estimator sk-toggleable\"><input class=\"sk-toggleable__control sk-hidden--visually\" id=\"e562106a-938f-474c-a9b0-7ee45672970a\" type=\"checkbox\" ><label class=\"sk-toggleable__label\" for=\"e562106a-938f-474c-a9b0-7ee45672970a\">StandardScaler</label><div class=\"sk-toggleable__content\"><pre>StandardScaler()</pre></div></div></div><div class=\"sk-item\"><div class=\"sk-estimator sk-toggleable\"><input class=\"sk-toggleable__control sk-hidden--visually\" id=\"97fae341-9beb-4bd0-ba0e-a926d0d3b3d4\" type=\"checkbox\" ><label class=\"sk-toggleable__label\" for=\"97fae341-9beb-4bd0-ba0e-a926d0d3b3d4\">SelectKBest</label><div class=\"sk-toggleable__content\"><pre>SelectKBest()</pre></div></div></div></div></div></div></div></div><div class=\"sk-parallel-item\"><div class=\"sk-item\"><div class=\"sk-label-container\"><div class=\"sk-label sk-toggleable\"><input class=\"sk-toggleable__control sk-hidden--visually\" id=\"d8920ddc-9323-4348-81d5-a1c5d76161c9\" type=\"checkbox\" ><label class=\"sk-toggleable__label\" for=\"d8920ddc-9323-4348-81d5-a1c5d76161c9\">categorical</label><div class=\"sk-toggleable__content\"><pre>['MSZoning', 'Street', 'Alley', 'LotShape', 'LandContour', 'Utilities', 'LotConfig', 'LandSlope', 'Neighborhood', 'Condition1', 'Condition2', 'BldgType', 'HouseStyle', 'RoofStyle', 'RoofMatl', 'Exterior1st', 'Exterior2nd', 'MasVnrType', 'ExterQual', 'ExterCond', 'Foundation', 'BsmtQual', 'BsmtCond', 'BsmtExposure', 'BsmtFinType1', 'BsmtFinType2', 'Heating', 'HeatingQC', 'CentralAir', 'Electrical', 'KitchenQual', 'Functional', 'FireplaceQu', 'GarageType', 'GarageFinish', 'GarageQual', 'GarageCond', 'PavedDrive', 'PoolQC', 'Fence', 'MiscFeature', 'SaleType', 'SaleCondition']</pre></div></div></div><div class=\"sk-serial\"><div class=\"sk-item\"><div class=\"sk-serial\"><div class=\"sk-item\"><div class=\"sk-estimator sk-toggleable\"><input class=\"sk-toggleable__control sk-hidden--visually\" id=\"b36e4e7e-bcfd-42c3-8749-ea22bcf7bd81\" type=\"checkbox\" ><label class=\"sk-toggleable__label\" for=\"b36e4e7e-bcfd-42c3-8749-ea22bcf7bd81\">SimpleImputer</label><div class=\"sk-toggleable__content\"><pre>SimpleImputer(strategy='most_frequent')</pre></div></div></div><div class=\"sk-item\"><div class=\"sk-estimator sk-toggleable\"><input class=\"sk-toggleable__control sk-hidden--visually\" id=\"7a625b46-e95c-4fdf-8098-fe664aa223c6\" type=\"checkbox\" ><label class=\"sk-toggleable__label\" for=\"7a625b46-e95c-4fdf-8098-fe664aa223c6\">OneHotEncoder</label><div class=\"sk-toggleable__content\"><pre>OneHotEncoder(handle_unknown='ignore')</pre></div></div></div></div></div></div></div></div></div></div></div></div><div class=\"sk-item\"><div class=\"sk-label-container\"><div class=\"sk-label sk-toggleable\"><input class=\"sk-toggleable__control sk-hidden--visually\" id=\"f6d2d058-7033-4ddd-a2e5-1238ab138cfc\" type=\"checkbox\" ><label class=\"sk-toggleable__label\" for=\"f6d2d058-7033-4ddd-a2e5-1238ab138cfc\">Stacking_Regressor: StackingRegressor</label><div class=\"sk-toggleable__content\"><pre>StackingRegressor(estimators=[('Linear_Regression', LinearRegression()),\n",
       "                              ('Lasso', Lasso()), ('Ridge', Ridge())],\n",
       "                  n_jobs=-1, passthrough=True)</pre></div></div></div><div class=\"sk-serial\"><div class=\"sk-item\"><div class=\"sk-parallel\"><div class=\"sk-parallel-item\"><div class=\"sk-item\"><div class=\"sk-label-container\"><div class=\"sk-label sk-toggleable\"><label>Linear_Regression</label></div></div><div class=\"sk-serial\"><div class=\"sk-item\"><div class=\"sk-estimator sk-toggleable\"><input class=\"sk-toggleable__control sk-hidden--visually\" id=\"9d436f34-5967-4dcf-a50e-0b446681f632\" type=\"checkbox\" ><label class=\"sk-toggleable__label\" for=\"9d436f34-5967-4dcf-a50e-0b446681f632\">LinearRegression</label><div class=\"sk-toggleable__content\"><pre>LinearRegression()</pre></div></div></div></div></div></div><div class=\"sk-parallel-item\"><div class=\"sk-item\"><div class=\"sk-label-container\"><div class=\"sk-label sk-toggleable\"><label>Lasso</label></div></div><div class=\"sk-serial\"><div class=\"sk-item\"><div class=\"sk-estimator sk-toggleable\"><input class=\"sk-toggleable__control sk-hidden--visually\" id=\"c3b232ab-397c-4b7e-ae46-2f9f0e15a6b6\" type=\"checkbox\" ><label class=\"sk-toggleable__label\" for=\"c3b232ab-397c-4b7e-ae46-2f9f0e15a6b6\">Lasso</label><div class=\"sk-toggleable__content\"><pre>Lasso()</pre></div></div></div></div></div></div><div class=\"sk-parallel-item\"><div class=\"sk-item\"><div class=\"sk-label-container\"><div class=\"sk-label sk-toggleable\"><label>Ridge</label></div></div><div class=\"sk-serial\"><div class=\"sk-item\"><div class=\"sk-estimator sk-toggleable\"><input class=\"sk-toggleable__control sk-hidden--visually\" id=\"754e84e7-8279-46e3-949f-10ece292f46d\" type=\"checkbox\" ><label class=\"sk-toggleable__label\" for=\"754e84e7-8279-46e3-949f-10ece292f46d\">Ridge</label><div class=\"sk-toggleable__content\"><pre>Ridge()</pre></div></div></div></div></div></div></div></div><div class=\"sk-item\"><div class=\"sk-parallel\"><div class=\"sk-parallel-item\"><div class=\"sk-item\"><div class=\"sk-label-container\"><div class=\"sk-label sk-toggleable\"><label>final_estimator</label></div></div><div class=\"sk-serial\"><div class=\"sk-item\"><div class=\"sk-estimator sk-toggleable\"><input class=\"sk-toggleable__control sk-hidden--visually\" id=\"a2a67d5d-395f-4066-8180-499cd721afe2\" type=\"checkbox\" ><label class=\"sk-toggleable__label\" for=\"a2a67d5d-395f-4066-8180-499cd721afe2\">RidgeCV</label><div class=\"sk-toggleable__content\"><pre>RidgeCV(alphas=array([ 0.1,  1. , 10. ]))</pre></div></div></div></div></div></div></div></div></div></div></div></div></div></div></div></div></div></div></div>"
      ],
      "text/plain": [
       "GridSearchCV(cv=5,\n",
       "             estimator=Pipeline(steps=[('Preprocessor',\n",
       "                                        Pipeline(steps=[('data_transformer',\n",
       "                                                         ColumnTransformer(transformers=[('numerical',\n",
       "                                                                                          Pipeline(steps=[('imputer',\n",
       "                                                                                                           SimpleImputer()),\n",
       "                                                                                                          ('scaler',\n",
       "                                                                                                           StandardScaler()),\n",
       "                                                                                                          ('feature_selector',\n",
       "                                                                                                           SelectKBest())]),\n",
       "                                                                                          ['MSSubClass',\n",
       "                                                                                           'LotFrontage',\n",
       "                                                                                           'LotArea',\n",
       "                                                                                           'OverallQual',\n",
       "                                                                                           'OverallCond',\n",
       "                                                                                           'YearBuilt',\n",
       "                                                                                           'YearRemodAdd',\n",
       "                                                                                           'MasVnr...\n",
       "                                       ('Stacking_Regressor',\n",
       "                                        StackingRegressor(estimators=[('Linear_Regression',\n",
       "                                                                       LinearRegression()),\n",
       "                                                                      ('Lasso',\n",
       "                                                                       Lasso()),\n",
       "                                                                      ('Ridge',\n",
       "                                                                       Ridge())],\n",
       "                                                          n_jobs=-1,\n",
       "                                                          passthrough=True))]),\n",
       "             n_jobs=-1,\n",
       "             param_grid={'Stacking_Regressor__Lasso__alpha': array([0.2   , 0.2125, 0.225 , 0.2375, 0.25  , 0.2625, 0.275 , 0.2875,\n",
       "       0.3   ]),\n",
       "                         'Stacking_Regressor__Ridge__alpha': array([3.  , 3.25, 3.5 , 3.75, 4.  , 4.25, 4.5 , 4.75, 5.  ])})"
      ]
     },
     "execution_count": 11,
     "metadata": {},
     "output_type": "execute_result"
    }
   ],
   "source": [
    "stacked_grid_search"
   ]
  },
  {
   "cell_type": "markdown",
   "id": "b992c07b",
   "metadata": {},
   "source": [
    "**Run model and evaluate results**"
   ]
  },
  {
   "cell_type": "markdown",
   "id": "13676992",
   "metadata": {},
   "source": [
    "Fit the model and get the score on train set"
   ]
  },
  {
   "cell_type": "code",
   "execution_count": 12,
   "id": "726651e4",
   "metadata": {
    "ExecuteTime": {
     "end_time": "2021-12-02T15:36:02.700291Z",
     "start_time": "2021-12-02T15:36:02.680049Z"
    }
   },
   "outputs": [
    {
     "name": "stdout",
     "output_type": "stream",
     "text": [
      "Model score on training data:  0.8970\n"
     ]
    }
   ],
   "source": [
    "# train_score = stacking_regressor.fit(X_train, y_train).score(X_test, y_test)\n",
    "train_score = model.score(X_train, y_train)\n",
    "print(f'Model score on training data: {train_score: .4f}')"
   ]
  },
  {
   "cell_type": "markdown",
   "id": "d597bf2e",
   "metadata": {},
   "source": [
    "Evaluate model on test set"
   ]
  },
  {
   "cell_type": "code",
   "execution_count": 13,
   "id": "519d940a",
   "metadata": {
    "ExecuteTime": {
     "end_time": "2021-12-02T15:36:02.790845Z",
     "start_time": "2021-12-02T15:36:02.701326Z"
    }
   },
   "outputs": [
    {
     "name": "stdout",
     "output_type": "stream",
     "text": [
      "Best score:  0.8423\n",
      "with best parameters:\n",
      "         Lasso alpha  0.20\n",
      "         Ridge alpha  3.25\n",
      "Model score on test data:  0.8898\n"
     ]
    }
   ],
   "source": [
    "best_score = stacked_grid_search.best_score_\n",
    "best_params = stacked_grid_search.best_params_\n",
    "print(f'Best score: {best_score: .4f}\\nwith best parameters:')\n",
    "print(f'         Lasso alpha {best_params[\"Stacking_Regressor__Lasso__alpha\"]: .2f}')\n",
    "print(f'         Ridge alpha {best_params[\"Stacking_Regressor__Ridge__alpha\"]: .2f}')\n",
    "\n",
    "model = stacked_grid_search.best_estimator_\n",
    "# train_score = model.fit(X_train, y_train).score(X_test, y_test)\n",
    "test_score = model.score(X_test, y_test)\n",
    "print(f'Model score on test data: {test_score: .4f}')\n"
   ]
  },
  {
   "cell_type": "markdown",
   "id": "39008731",
   "metadata": {},
   "source": [
    "Visualize residuals"
   ]
  },
  {
   "cell_type": "code",
   "execution_count": 14,
   "id": "d4e2e572",
   "metadata": {
    "ExecuteTime": {
     "end_time": "2021-12-02T15:36:03.396714Z",
     "start_time": "2021-12-02T15:36:02.792479Z"
    }
   },
   "outputs": [
    {
     "data": {
      "image/png": "[encoded data removed]",
      "text/plain": [
       "<Figure size 432x288 with 2 Axes>"
      ]
     },
     "metadata": {
      "needs_background": "light"
     },
     "output_type": "display_data"
    }
   ],
   "source": [
    "visualizer = ResidualsPlot(model)\n",
    "\n",
    "visualizer.fit(X_train, y_train)  # Fit the training data to the visualizer\n",
    "visualizer.score(X_test, y_test)  # Evaluate the model on the test data\n",
    "_ = visualizer.show()             # Finalize and render the figure"
   ]
  },
  {
   "cell_type": "markdown",
   "id": "9ec5fc37",
   "metadata": {},
   "source": [
    "Evaluate model performance with several metrics  \n",
    "Use SalePrice instead of its log"
   ]
  },
  {
   "cell_type": "code",
   "execution_count": 15,
   "id": "80eebc1c",
   "metadata": {
    "ExecuteTime": {
     "end_time": "2021-12-02T15:36:03.412032Z",
     "start_time": "2021-12-02T15:36:03.397639Z"
    }
   },
   "outputs": [
    {
     "name": "stdout",
     "output_type": "stream",
     "text": [
      "RMSE =   24298.7\n",
      "MAE =    16324.5\n",
      "MAPE =   9.30 %\n",
      "R2 =     0.90\n"
     ]
    }
   ],
   "source": [
    "# Restore target variable\n",
    "yhat = np.exp(model.predict(X_test))  # .round(0)\n",
    "y = np.exp(y_test)\n",
    "\n",
    "# Metrics\n",
    "RMSE = mean_squared_error(yhat, y, squared=False)\n",
    "MAE = mean_absolute_error(yhat, y)\n",
    "MAPE = mean_absolute_percentage_error(yhat, y)\n",
    "R2 = r2_score(yhat,y)\n",
    "\n",
    "print(f\"\"\"{RMSE = : 9.1f}\n",
    "{MAE = : 10.1f}\n",
    "MAPE = {MAPE*100: 6.2f} %\n",
    "{R2 = : 8.2f}\"\"\")"
   ]
  },
  {
   "cell_type": "markdown",
   "id": "99e417fe",
   "metadata": {},
   "source": [
    "Save the model"
   ]
  },
  {
   "cell_type": "code",
   "execution_count": 16,
   "id": "e234bd16",
   "metadata": {
    "ExecuteTime": {
     "end_time": "2021-12-02T15:36:03.527311Z",
     "start_time": "2021-12-02T15:36:03.412996Z"
    }
   },
   "outputs": [],
   "source": [
    "with open(\"stacked_regression_pipeline.pkl\", \"wb\") as f:\n",
    "    pickle.dump(stacked_grid_search, f)"
   ]
  }
 ],
 "metadata": {
  "kernelspec": {
   "display_name": "Python 3 (ipykernel)",
   "language": "python",
   "name": "python3"
  },
  "language_info": {
   "codemirror_mode": {
    "name": "ipython",
    "version": 3
   },
   "file_extension": ".py",
   "mimetype": "text/x-python",
   "name": "python",
   "nbconvert_exporter": "python",
   "pygments_lexer": "ipython3",
   "version": "3.8.8"
  }
 },
 "nbformat": 4,
 "nbformat_minor": 5
}
